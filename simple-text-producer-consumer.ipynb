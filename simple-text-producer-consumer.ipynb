{
 "cells": [
  {
   "cell_type": "code",
   "execution_count": 1,
   "metadata": {
    "collapsed": true
   },
   "outputs": [],
   "source": [
    "from kafka import KafkaProducer, KafkaConsumer, TopicPartition"
   ]
  },
  {
   "cell_type": "code",
   "execution_count": 2,
   "metadata": {
    "collapsed": true
   },
   "outputs": [],
   "source": [
    "files = \"files/\"\n",
    "ca_filename = \"ca.pem\"\n",
    "cert_filename = \"service.cert\"\n",
    "key_filename = \"service.key\"\n",
    "topic_name = \"demo-topic\""
   ]
  },
  {
   "cell_type": "markdown",
   "metadata": {},
   "source": [
    "## Producer"
   ]
  },
  {
   "cell_type": "code",
   "execution_count": 3,
   "metadata": {
    "collapsed": true
   },
   "outputs": [],
   "source": [
    "producer = KafkaProducer(\n",
    "    bootstrap_servers=\"message-service-eero-6762.aivencloud.com:18806\",\n",
    "    security_protocol=\"SSL\",\n",
    "    ssl_cafile= files + ca_filename,\n",
    "    ssl_certfile= files + cert_filename,\n",
    "    ssl_keyfile= files + key_filename\n",
    ")"
   ]
  },
  {
   "cell_type": "markdown",
   "metadata": {},
   "source": [
    "## Consumer"
   ]
  },
  {
   "cell_type": "code",
   "execution_count": 4,
   "metadata": {
    "collapsed": true
   },
   "outputs": [],
   "source": [
    "consumer = KafkaConsumer(\n",
    "    topic_name,\n",
    "    bootstrap_servers=\"message-service-eero-6762.aivencloud.com:18806\",\n",
    "    client_id=\"demo-client-1\",\n",
    "    group_id=\"demo-group\",\n",
    "    security_protocol=\"SSL\",\n",
    "    ssl_cafile= files + ca_filename,\n",
    "    ssl_certfile= files + cert_filename,\n",
    "    ssl_keyfile= files + key_filename\n",
    ")\n"
   ]
  },
  {
   "cell_type": "markdown",
   "metadata": {},
   "source": [
    "### Consumer parts and offsets"
   ]
  },
  {
   "cell_type": "code",
   "execution_count": 39,
   "metadata": {},
   "outputs": [
    {
     "data": {
      "text/plain": [
       "[TopicPartition(topic='demo-topic', partition=0)]"
      ]
     },
     "execution_count": 39,
     "metadata": {},
     "output_type": "execute_result"
    }
   ],
   "source": [
    "parts = [TopicPartition(topic_name, p) for p in consumer.partitions_for_topic(topic_name)]\n",
    "parts"
   ]
  },
  {
   "cell_type": "code",
   "execution_count": 13,
   "metadata": {
    "scrolled": false
   },
   "outputs": [
    {
     "data": {
      "text/plain": [
       "[0]"
      ]
     },
     "execution_count": 13,
     "metadata": {},
     "output_type": "execute_result"
    }
   ],
   "source": [
    "offsets = [consumer.end_offsets(parts)[p] for p in parts]\n",
    "offsets"
   ]
  },
  {
   "cell_type": "markdown",
   "metadata": {},
   "source": [
    "## Playing with Producer and Consumer"
   ]
  },
  {
   "cell_type": "markdown",
   "metadata": {},
   "source": [
    "### Add messages"
   ]
  },
  {
   "cell_type": "code",
   "execution_count": 15,
   "metadata": {
    "collapsed": true
   },
   "outputs": [],
   "source": [
    "## For topic with only 1 partition\n",
    "def add_messages(amount, first_number):\n",
    "    for i in range(first_number, first_number + amount):\n",
    "        message = \"message number {}\".format(i)\n",
    "        print(\"Sending: {}\".format(message))\n",
    "        m = producer.send(topic_name, message.encode(\"utf-8\")).get()\n",
    "        print(\"Offset: \" + str(m.offset))"
   ]
  },
  {
   "cell_type": "code",
   "execution_count": 16,
   "metadata": {},
   "outputs": [
    {
     "name": "stdout",
     "output_type": "stream",
     "text": [
      "Sending: message number 0\n",
      "Offset: 0\n",
      "Sending: message number 1\n",
      "Offset: 1\n",
      "Sending: message number 2\n",
      "Offset: 2\n",
      "Sending: message number 3\n",
      "Offset: 3\n"
     ]
    }
   ],
   "source": [
    "add_messages(4, offsets[0])"
   ]
  },
  {
   "cell_type": "code",
   "execution_count": 17,
   "metadata": {},
   "outputs": [
    {
     "data": {
      "text/plain": [
       "[4]"
      ]
     },
     "execution_count": 17,
     "metadata": {},
     "output_type": "execute_result"
    }
   ],
   "source": [
    "offsets = [consumer.end_offsets(parts)[p] for p in parts]\n",
    "offsets"
   ]
  },
  {
   "cell_type": "code",
   "execution_count": 18,
   "metadata": {},
   "outputs": [
    {
     "name": "stdout",
     "output_type": "stream",
     "text": [
      "Sending: message number 4\n",
      "Offset: 4\n",
      "Sending: message number 5\n",
      "Offset: 5\n",
      "Sending: message number 6\n",
      "Offset: 6\n",
      "Sending: message number 7\n",
      "Offset: 7\n"
     ]
    }
   ],
   "source": [
    "add_messages(4, offsets[0])"
   ]
  },
  {
   "cell_type": "code",
   "execution_count": 19,
   "metadata": {
    "collapsed": true
   },
   "outputs": [],
   "source": [
    "producer.flush()"
   ]
  },
  {
   "cell_type": "markdown",
   "metadata": {},
   "source": [
    "### Read all messages"
   ]
  },
  {
   "cell_type": "code",
   "execution_count": 34,
   "metadata": {
    "collapsed": true
   },
   "outputs": [],
   "source": [
    "consumer.seek_to_beginning(*parts)"
   ]
  },
  {
   "cell_type": "code",
   "execution_count": 35,
   "metadata": {},
   "outputs": [
    {
     "data": {
      "text/plain": [
       "{TopicPartition(topic='demo-topic', partition=0): [ConsumerRecord(topic='demo-topic', partition=0, offset=0, timestamp=1528974988355, timestamp_type=0, key=None, value=b'message number 0', checksum=None, serialized_key_size=-1, serialized_value_size=16),\n",
       "  ConsumerRecord(topic='demo-topic', partition=0, offset=1, timestamp=1528974988385, timestamp_type=0, key=None, value=b'message number 1', checksum=None, serialized_key_size=-1, serialized_value_size=16),\n",
       "  ConsumerRecord(topic='demo-topic', partition=0, offset=2, timestamp=1528974988391, timestamp_type=0, key=None, value=b'message number 2', checksum=None, serialized_key_size=-1, serialized_value_size=16),\n",
       "  ConsumerRecord(topic='demo-topic', partition=0, offset=3, timestamp=1528974988397, timestamp_type=0, key=None, value=b'message number 3', checksum=None, serialized_key_size=-1, serialized_value_size=16),\n",
       "  ConsumerRecord(topic='demo-topic', partition=0, offset=4, timestamp=1528975016309, timestamp_type=0, key=None, value=b'message number 4', checksum=None, serialized_key_size=-1, serialized_value_size=16),\n",
       "  ConsumerRecord(topic='demo-topic', partition=0, offset=5, timestamp=1528975016318, timestamp_type=0, key=None, value=b'message number 5', checksum=None, serialized_key_size=-1, serialized_value_size=16),\n",
       "  ConsumerRecord(topic='demo-topic', partition=0, offset=6, timestamp=1528975016323, timestamp_type=0, key=None, value=b'message number 6', checksum=None, serialized_key_size=-1, serialized_value_size=16),\n",
       "  ConsumerRecord(topic='demo-topic', partition=0, offset=7, timestamp=1528975016328, timestamp_type=0, key=None, value=b'message number 7', checksum=None, serialized_key_size=-1, serialized_value_size=16)]}"
      ]
     },
     "execution_count": 35,
     "metadata": {},
     "output_type": "execute_result"
    }
   ],
   "source": [
    "raw_msgs = consumer.poll(timeout_ms=1000)\n",
    "raw_msgs"
   ]
  },
  {
   "cell_type": "code",
   "execution_count": 36,
   "metadata": {},
   "outputs": [
    {
     "name": "stdout",
     "output_type": "stream",
     "text": [
      "Received: b'message number 0'\n",
      "Received: b'message number 1'\n",
      "Received: b'message number 2'\n",
      "Received: b'message number 3'\n",
      "Received: b'message number 4'\n",
      "Received: b'message number 5'\n",
      "Received: b'message number 6'\n",
      "Received: b'message number 7'\n"
     ]
    }
   ],
   "source": [
    "for tp, msgs in raw_msgs.items():\n",
    "    for msg in msgs:\n",
    "        print(\"Received: {}\".format(msg.value))"
   ]
  },
  {
   "cell_type": "markdown",
   "metadata": {},
   "source": [
    "### Read message with offset"
   ]
  },
  {
   "cell_type": "code",
   "execution_count": 37,
   "metadata": {
    "collapsed": true
   },
   "outputs": [],
   "source": [
    "def get_message(part: TopicPartition, offset: int):\n",
    "    consumer.seek(part, offset)\n",
    "    raw_msgs = consumer.poll(timeout_ms=1000)\n",
    "    msg = list(raw_msgs.values())[0][0]\n",
    "    return msg"
   ]
  },
  {
   "cell_type": "code",
   "execution_count": 38,
   "metadata": {},
   "outputs": [
    {
     "data": {
      "text/plain": [
       "ConsumerRecord(topic='demo-topic', partition=0, offset=3, timestamp=1528974988397, timestamp_type=0, key=None, value=b'message number 3', checksum=None, serialized_key_size=-1, serialized_value_size=16)"
      ]
     },
     "execution_count": 38,
     "metadata": {},
     "output_type": "execute_result"
    }
   ],
   "source": [
    "get_message(parts[0], 3)"
   ]
  },
  {
   "cell_type": "code",
   "execution_count": null,
   "metadata": {
    "collapsed": true
   },
   "outputs": [],
   "source": []
  }
 ],
 "metadata": {
  "kernelspec": {
   "display_name": "aiven-demo",
   "language": "python",
   "name": "aiven-demo"
  },
  "language_info": {
   "codemirror_mode": {
    "name": "ipython",
    "version": 3
   },
   "file_extension": ".py",
   "mimetype": "text/x-python",
   "name": "python",
   "nbconvert_exporter": "python",
   "pygments_lexer": "ipython3",
   "version": "3.6.5"
  }
 },
 "nbformat": 4,
 "nbformat_minor": 2
}
